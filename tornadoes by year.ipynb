{
 "metadata": {
  "name": "",
  "signature": "sha256:09d8d908997ec6f38a0f03911f1e1529049974a7648d9025644c7af62a9d5113"
 },
 "nbformat": 3,
 "nbformat_minor": 0,
 "worksheets": [
  {
   "cells": [
    {
     "cell_type": "code",
     "collapsed": false,
     "input": [
      "import csv\n",
      "from mpl_toolkits.basemap import Basemap\n",
      "import matplotlib.pyplot as plt\n",
      "import numpy as np\n",
      "\n",
      "import shapefile \n",
      "\n",
      "%matplotlib inline"
     ],
     "language": "python",
     "metadata": {},
     "outputs": [],
     "prompt_number": 1
    },
    {
     "cell_type": "code",
     "collapsed": false,
     "input": [
      "tornado_files = [\"data/2014_torn.csv\", \"data/2013_torn.csv\", \"data/2012_torn.csv\",\n",
      "                 \"data/2011_torn.csv\", \"data/2010_torn.csv\", \"data/2009_torn.csv\",\n",
      "                 \"data/2008_torn.csv\"\n",
      "                 ]\n",
      "all_tornadoes = []\n",
      "\n",
      "for tornado_file in tornado_files:\n",
      "    with open(tornado_file) as f:\n",
      "        tornadoes = []\n",
      "        reader = csv.reader(f)\n",
      "        for row in reader:\n",
      "            tornadoes.append([float(row[15]), float(row[16]), float(row[10])])\n",
      "        all_tornadoes.append({\"year\": row[1], \"data\": tornadoes})"
     ],
     "language": "python",
     "metadata": {},
     "outputs": [
      {
       "output_type": "stream",
       "stream": "stdout",
       "text": [
        "2013\n"
       ]
      }
     ],
     "prompt_number": 160
    },
    {
     "cell_type": "code",
     "collapsed": false,
     "input": [
      "plt.figure(figsize=(15, 10))\n",
      "\n",
      "us_map = Basemap(\n",
      "    width=5000000,height=3000000,\n",
      "    resolution='l',projection='aea',\n",
      "    lon_0=-98,lat_0=39)\n",
      "\n",
      "for tornado_data in all_tornadoes:\n",
      "    plt.figure(figsize=(15, 15))\n",
      "    us_map.drawcoastlines()\n",
      "    us_map.drawcountries()\n",
      "    us_map.drawmapboundary()\n",
      "    \n",
      "    for tornado in tornado_data['data']:\n",
      "        x, y = us_map(tornado[1], tornado[0])\n",
      "        us_map.plot(x, y, \"wo\", color=\"#ef1010\", markersize=tornado[2]*2, alpha=0.6)\n",
      "    plt.figtext(0.19, 0.33, tornado_data[\"year\"], size=64, weight=\"bold\")\n",
      "    plt.savefig(\"tornado\"+tornado_data[\"year\"]+\".png\", dpi=500, format=\"png\", bbox_inches=\"tight\")\n",
      "    plt.close()"
     ],
     "language": "python",
     "metadata": {},
     "outputs": [
      {
       "metadata": {},
       "output_type": "display_data",
       "text": [
        "<matplotlib.figure.Figure at 0x11c730d10>"
       ]
      }
     ],
     "prompt_number": 184
    },
    {
     "cell_type": "code",
     "collapsed": false,
     "input": [],
     "language": "python",
     "metadata": {},
     "outputs": [],
     "prompt_number": 141
    },
    {
     "cell_type": "code",
     "collapsed": false,
     "input": [],
     "language": "python",
     "metadata": {},
     "outputs": [],
     "prompt_number": 141
    },
    {
     "cell_type": "code",
     "collapsed": false,
     "input": [],
     "language": "python",
     "metadata": {},
     "outputs": []
    }
   ],
   "metadata": {}
  }
 ]
}